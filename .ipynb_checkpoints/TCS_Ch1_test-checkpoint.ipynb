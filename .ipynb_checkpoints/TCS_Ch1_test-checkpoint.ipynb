{
 "cells": [
  {
   "cell_type": "markdown",
   "metadata": {},
   "source": [
    "## Test script\n",
    ">This script should be executed only after train script is executed\n",
    ">This script run the data preprocessing on the separately provided test data (without 'Flag')\n",
    ">After data preprocessing, it predicts the 'Flag' on the test data"
   ]
  },
  {
   "cell_type": "code",
   "execution_count": 1,
   "metadata": {},
   "outputs": [],
   "source": [
    "# Connect to Postgres\n",
    "import os\n",
    "import psycopg2\n",
    "def newCursor():\n",
    "    try:\n",
    "        connection = psycopg2.connect(user = os.environ[\"DB_USER\"],\n",
    "                                      host = os.environ[\"DB_HOST\"],\n",
    "                                      password = os.environ[\"DB_PASSWORD\"],\n",
    "                                      port = \"5432\",\n",
    "                                      database = os.environ[\"DB_DATABASE\"])\n",
    "\n",
    "        cursor = connection.cursor()\n",
    "        return cursor\n",
    "\n",
    "    except (Exception, psycopg2.Error) as error:\n",
    "        print(\"Error while connecting to PostgreSQL\", error)\n",
    "        return error"
   ]
  },
  {
   "cell_type": "code",
   "execution_count": 2,
   "metadata": {},
   "outputs": [
    {
     "name": "stdout",
     "output_type": "stream",
     "text": [
      "simulated_fin_parsed_hackathon\n",
      "simulated_data_senders_train_hackathon\n",
      "simulated_data_senders_test_hackathon\n"
     ]
    }
   ],
   "source": [
    "c = newCursor()\n",
    "q = \"\"\"\n",
    "SELECT table_name\n",
    "  FROM information_schema.tables\n",
    " WHERE table_schema='swift'\n",
    "   AND table_type='BASE TABLE'\n",
    "\"\"\"\n",
    "c.execute(q)\n",
    "swift_tables = c.fetchall()\n",
    "for table in swift_tables:\n",
    "    print(table[0])"
   ]
  },
  {
   "cell_type": "markdown",
   "metadata": {},
   "source": [
    "## 1.0 Install required libraries"
   ]
  },
  {
   "cell_type": "code",
   "execution_count": 3,
   "metadata": {},
   "outputs": [],
   "source": [
    "# !pip install category_encoders\n",
    "# !pip install sklearn\n",
    "\n",
    "### below installations not required\n",
    "# !pip install pycaret[full]\n",
    "\n",
    "# !pip install xgboost\n",
    "# !pip install imblearn"
   ]
  },
  {
   "cell_type": "code",
   "execution_count": 4,
   "metadata": {},
   "outputs": [],
   "source": [
    "import pandas as pd\n",
    "import numpy as np \n",
    "from sklearn.metrics import confusion_matrix\n",
    "import category_encoders as ce\n",
    "from sklearn.model_selection import train_test_split\n",
    "import gc\n",
    "import joblib"
   ]
  },
  {
   "cell_type": "markdown",
   "metadata": {},
   "source": [
    "## 2.0 Load the test data from DB"
   ]
  },
  {
   "cell_type": "code",
   "execution_count": 5,
   "metadata": {},
   "outputs": [
    {
     "data": {
      "text/html": [
       "<div>\n",
       "<style scoped>\n",
       "    .dataframe tbody tr th:only-of-type {\n",
       "        vertical-align: middle;\n",
       "    }\n",
       "\n",
       "    .dataframe tbody tr th {\n",
       "        vertical-align: top;\n",
       "    }\n",
       "\n",
       "    .dataframe thead th {\n",
       "        text-align: right;\n",
       "    }\n",
       "</style>\n",
       "<table border=\"1\" class=\"dataframe\">\n",
       "  <thead>\n",
       "    <tr style=\"text-align: right;\">\n",
       "      <th></th>\n",
       "      <th>Transaction Ref</th>\n",
       "      <th>Originator</th>\n",
       "      <th>Sender</th>\n",
       "      <th>Receiver</th>\n",
       "      <th>Beneficiary</th>\n",
       "      <th>Date</th>\n",
       "      <th>Time</th>\n",
       "      <th>Currency</th>\n",
       "      <th>Value</th>\n",
       "    </tr>\n",
       "  </thead>\n",
       "  <tbody>\n",
       "    <tr>\n",
       "      <th>0</th>\n",
       "      <td>5B3EDDAD9B56</td>\n",
       "      <td>BEOWBIXX</td>\n",
       "      <td>BEOWBIXX</td>\n",
       "      <td>TUWNPGXX</td>\n",
       "      <td>TUWNPGXX</td>\n",
       "      <td>190416</td>\n",
       "      <td>1759</td>\n",
       "      <td>738</td>\n",
       "      <td>751775</td>\n",
       "    </tr>\n",
       "    <tr>\n",
       "      <th>1</th>\n",
       "      <td>919B633D36</td>\n",
       "      <td>AEAESTXX</td>\n",
       "      <td>AEAESTXX</td>\n",
       "      <td>WRLHSTXX</td>\n",
       "      <td>WRLHSTXX</td>\n",
       "      <td>190701</td>\n",
       "      <td>1410</td>\n",
       "      <td>34</td>\n",
       "      <td>14974</td>\n",
       "    </tr>\n",
       "    <tr>\n",
       "      <th>2</th>\n",
       "      <td>B39EE91CBC</td>\n",
       "      <td>BJXJBIXX</td>\n",
       "      <td>BJXJBIXX</td>\n",
       "      <td>RGFHBJXX</td>\n",
       "      <td>LZJZSLXX</td>\n",
       "      <td>190418</td>\n",
       "      <td>1402</td>\n",
       "      <td>F7E</td>\n",
       "      <td>360742</td>\n",
       "    </tr>\n",
       "    <tr>\n",
       "      <th>3</th>\n",
       "      <td>A6AC7BB94BDED2B7</td>\n",
       "      <td>ARZNGYXX</td>\n",
       "      <td>ARZNGYXX</td>\n",
       "      <td>BCIMMDXX</td>\n",
       "      <td>NHLWRSXX</td>\n",
       "      <td>190822</td>\n",
       "      <td>1043</td>\n",
       "      <td>7.00E+05</td>\n",
       "      <td>207961</td>\n",
       "    </tr>\n",
       "    <tr>\n",
       "      <th>4</th>\n",
       "      <td>3A83A5ECCB05D3C7</td>\n",
       "      <td>APUUZAXX</td>\n",
       "      <td>APUUZAXX</td>\n",
       "      <td>CBJZAGXX</td>\n",
       "      <td>EGEHAMXX</td>\n",
       "      <td>190917</td>\n",
       "      <td>1354</td>\n",
       "      <td>273</td>\n",
       "      <td>644294</td>\n",
       "    </tr>\n",
       "  </tbody>\n",
       "</table>\n",
       "</div>"
      ],
      "text/plain": [
       "    Transaction Ref Originator    Sender  Receiver Beneficiary    Date  Time  \\\n",
       "0      5B3EDDAD9B56   BEOWBIXX  BEOWBIXX  TUWNPGXX    TUWNPGXX  190416  1759   \n",
       "1        919B633D36   AEAESTXX  AEAESTXX  WRLHSTXX    WRLHSTXX  190701  1410   \n",
       "2        B39EE91CBC   BJXJBIXX  BJXJBIXX  RGFHBJXX    LZJZSLXX  190418  1402   \n",
       "3  A6AC7BB94BDED2B7   ARZNGYXX  ARZNGYXX  BCIMMDXX    NHLWRSXX  190822  1043   \n",
       "4  3A83A5ECCB05D3C7   APUUZAXX  APUUZAXX  CBJZAGXX    EGEHAMXX  190917  1354   \n",
       "\n",
       "   Currency   Value  \n",
       "0       738  751775  \n",
       "1        34   14974  \n",
       "2       F7E  360742  \n",
       "3  7.00E+05  207961  \n",
       "4       273  644294  "
      ]
     },
     "execution_count": 5,
     "metadata": {},
     "output_type": "execute_result"
    }
   ],
   "source": [
    "\n",
    "c = newCursor()\n",
    "q = \"\"\"\n",
    "SELECT *\n",
    "FROM swift.\"simulated_data_senders_test_hackathon\"\n",
    "\n",
    "\"\"\"\n",
    "c.execute(q)\n",
    "cols = [desc[0] for desc in c.description]\n",
    "df_TEST = pd.DataFrame(c.fetchall(), columns=cols)\n",
    "df_TEST.head()"
   ]
  },
  {
   "cell_type": "markdown",
   "metadata": {},
   "source": [
    "## 3.0 Load the already saved model and encoders"
   ]
  },
  {
   "cell_type": "code",
   "execution_count": 6,
   "metadata": {},
   "outputs": [],
   "source": [
    "clf =  joblib.load('random_forest_923_vTEMP_3.joblib')\n"
   ]
  },
  {
   "cell_type": "code",
   "execution_count": 7,
   "metadata": {},
   "outputs": [],
   "source": [
    "count_enc = joblib.load('count_encvTEMP_3.joblib')\n",
    "encoderT = joblib.load('encoderTvTEMP_3.joblib')\n",
    "\n",
    "cat_features=['Sender', 'Receiver', 'Beneficiary', 'Date', 'Currency',  'SR',\n",
    "       'SB', 'RB', 'SC', 'BC', 'mon', 'dom', 'dow', 'q', 'h', 'Cmon', 'Cdom']\n",
    "encoded_columns = [\"Date\", 'h','Beneficiary','Currency', 'SB', 'BC','SC', 'dow', 'SR', 'RB', 'mon', 'Receiver','dom']"
   ]
  },
  {
   "cell_type": "markdown",
   "metadata": {},
   "source": [
    "## 3.1 Preprocess the test data"
   ]
  },
  {
   "cell_type": "code",
   "execution_count": 8,
   "metadata": {},
   "outputs": [],
   "source": [
    "df_TEST['SR'] = df_TEST.Sender+df_TEST.Receiver\n",
    "df_TEST['SB']= df_TEST.Sender+df_TEST.Beneficiary\n",
    "df_TEST['RB']=df_TEST.Receiver+df_TEST.Beneficiary\n",
    "df_TEST['SC']= df_TEST.Sender+df_TEST.Currency\n",
    "df_TEST['BC']=df_TEST.Beneficiary+df_TEST.Currency\n",
    "\n",
    "\n",
    "\n",
    "df_TEST['Datetime'] = df_TEST.Date*10000+df_TEST.Time\n",
    "df_TEST['Datetime'] = pd.to_datetime(df_TEST['Datetime'].astype(str), format='%y%m%d%H%M')\n",
    "df_TEST['mon'] = df_TEST.Datetime.dt.month\n",
    "df_TEST['dom'] = df_TEST.Datetime.dt.day\n",
    "df_TEST['dow'] = df_TEST.Datetime.dt.dayofweek\n",
    "df_TEST['q'] = df_TEST.Datetime.dt.quarter\n",
    "df_TEST['h'] = df_TEST.Datetime.dt.hour\n",
    "df_TEST['m'] = df_TEST.Datetime.dt.minute\n",
    "\n",
    "df_TEST['Cmon'] = df_TEST.Currency+df_TEST.mon.astype(str)\n",
    "df_TEST['Cdom'] = df_TEST.Currency+df_TEST.dom.astype(str)\n",
    "\n",
    "xcount_encoded_test = count_enc.transform(df_TEST[cat_features])\n",
    "df_TEST = df_TEST.join(xcount_encoded_test.add_suffix(\"_count\"))\n",
    "\n",
    "df_TEST.Value = df_TEST.Value.astype(int)\n",
    "\n",
    "df_TEST['Currency_mean'] = df_TEST.groupby('Currency')['Value'].transform('mean')\n",
    "df_TEST['Bene_mean'] = df_TEST.groupby('Beneficiary')['Value'].transform('mean')\n",
    "df_TEST['SC_count_mean'] = df_TEST.groupby('SC_count')['Value'].transform('mean')\n",
    "df_TEST['BC_count_mean'] = df_TEST.groupby('BC_count')['Value'].transform('mean')\n",
    "df_TEST['Date_mean'] = df_TEST.groupby('Date')['Value'].transform('mean')\n",
    "\n",
    "df_TEST['h_mean'] = df_TEST.groupby('h')['Value'].transform('mean')\n",
    "\n",
    "df_test_transformed = encoderT.transform(df_TEST[encoded_columns])\n",
    "\n",
    "df_TEST =  df_TEST.join(df_test_transformed.add_suffix(\"_tar\"))\n",
    "\n",
    "df_TEST=df_TEST.fillna(0)"
   ]
  },
  {
   "cell_type": "markdown",
   "metadata": {},
   "source": [
    "## 3.2 Create and empty dataframe with two columns. This dataframe is for submission of predicted 'Flag'"
   ]
  },
  {
   "cell_type": "code",
   "execution_count": 9,
   "metadata": {},
   "outputs": [
    {
     "data": {
      "text/html": [
       "<div>\n",
       "<style scoped>\n",
       "    .dataframe tbody tr th:only-of-type {\n",
       "        vertical-align: middle;\n",
       "    }\n",
       "\n",
       "    .dataframe tbody tr th {\n",
       "        vertical-align: top;\n",
       "    }\n",
       "\n",
       "    .dataframe thead th {\n",
       "        text-align: right;\n",
       "    }\n",
       "</style>\n",
       "<table border=\"1\" class=\"dataframe\">\n",
       "  <thead>\n",
       "    <tr style=\"text-align: right;\">\n",
       "      <th></th>\n",
       "      <th>Transaction Ref</th>\n",
       "      <th>Flag</th>\n",
       "    </tr>\n",
       "  </thead>\n",
       "  <tbody>\n",
       "  </tbody>\n",
       "</table>\n",
       "</div>"
      ],
      "text/plain": [
       "Empty DataFrame\n",
       "Columns: [Transaction Ref, Flag]\n",
       "Index: []"
      ]
     },
     "execution_count": 9,
     "metadata": {},
     "output_type": "execute_result"
    }
   ],
   "source": [
    "sub_DF = pd.DataFrame(columns=['Transaction Ref', 'Flag'])\n",
    "sub_DF"
   ]
  },
  {
   "cell_type": "code",
   "execution_count": 10,
   "metadata": {},
   "outputs": [
    {
     "data": {
      "text/html": [
       "<div>\n",
       "<style scoped>\n",
       "    .dataframe tbody tr th:only-of-type {\n",
       "        vertical-align: middle;\n",
       "    }\n",
       "\n",
       "    .dataframe tbody tr th {\n",
       "        vertical-align: top;\n",
       "    }\n",
       "\n",
       "    .dataframe thead th {\n",
       "        text-align: right;\n",
       "    }\n",
       "</style>\n",
       "<table border=\"1\" class=\"dataframe\">\n",
       "  <thead>\n",
       "    <tr style=\"text-align: right;\">\n",
       "      <th></th>\n",
       "      <th>Transaction Ref</th>\n",
       "      <th>Flag</th>\n",
       "    </tr>\n",
       "  </thead>\n",
       "  <tbody>\n",
       "    <tr>\n",
       "      <th>0</th>\n",
       "      <td>5B3EDDAD9B56</td>\n",
       "      <td>NaN</td>\n",
       "    </tr>\n",
       "    <tr>\n",
       "      <th>1</th>\n",
       "      <td>919B633D36</td>\n",
       "      <td>NaN</td>\n",
       "    </tr>\n",
       "    <tr>\n",
       "      <th>2</th>\n",
       "      <td>B39EE91CBC</td>\n",
       "      <td>NaN</td>\n",
       "    </tr>\n",
       "    <tr>\n",
       "      <th>3</th>\n",
       "      <td>A6AC7BB94BDED2B7</td>\n",
       "      <td>NaN</td>\n",
       "    </tr>\n",
       "    <tr>\n",
       "      <th>4</th>\n",
       "      <td>3A83A5ECCB05D3C7</td>\n",
       "      <td>NaN</td>\n",
       "    </tr>\n",
       "    <tr>\n",
       "      <th>...</th>\n",
       "      <td>...</td>\n",
       "      <td>...</td>\n",
       "    </tr>\n",
       "    <tr>\n",
       "      <th>735330</th>\n",
       "      <td>ADE9C10344CB</td>\n",
       "      <td>NaN</td>\n",
       "    </tr>\n",
       "    <tr>\n",
       "      <th>735331</th>\n",
       "      <td>B2AD4BC1DCDB</td>\n",
       "      <td>NaN</td>\n",
       "    </tr>\n",
       "    <tr>\n",
       "      <th>735332</th>\n",
       "      <td>DAC79A527A</td>\n",
       "      <td>NaN</td>\n",
       "    </tr>\n",
       "    <tr>\n",
       "      <th>735333</th>\n",
       "      <td>2E8091370B8B</td>\n",
       "      <td>NaN</td>\n",
       "    </tr>\n",
       "    <tr>\n",
       "      <th>735334</th>\n",
       "      <td>A23CE2A183EB</td>\n",
       "      <td>NaN</td>\n",
       "    </tr>\n",
       "  </tbody>\n",
       "</table>\n",
       "<p>735335 rows × 2 columns</p>\n",
       "</div>"
      ],
      "text/plain": [
       "         Transaction Ref Flag\n",
       "0           5B3EDDAD9B56  NaN\n",
       "1             919B633D36  NaN\n",
       "2             B39EE91CBC  NaN\n",
       "3       A6AC7BB94BDED2B7  NaN\n",
       "4       3A83A5ECCB05D3C7  NaN\n",
       "...                  ...  ...\n",
       "735330      ADE9C10344CB  NaN\n",
       "735331      B2AD4BC1DCDB  NaN\n",
       "735332        DAC79A527A  NaN\n",
       "735333      2E8091370B8B  NaN\n",
       "735334      A23CE2A183EB  NaN\n",
       "\n",
       "[735335 rows x 2 columns]"
      ]
     },
     "execution_count": 10,
     "metadata": {},
     "output_type": "execute_result"
    }
   ],
   "source": [
    "sub_DF['Transaction Ref'] = df_TEST['Transaction Ref']\n",
    "sub_DF"
   ]
  },
  {
   "cell_type": "code",
   "execution_count": 11,
   "metadata": {},
   "outputs": [],
   "source": [
    "df_TEST = df_TEST.drop(['Transaction Ref', 'Originator', 'Sender', 'Receiver', 'Beneficiary',\n",
    "       'Date', 'Time', 'Currency','SR', 'SB', 'RB', 'SC', 'BC', 'Datetime','Cmon', 'Cdom'], axis=1)"
   ]
  },
  {
   "cell_type": "markdown",
   "metadata": {},
   "source": [
    "## 3.3 Predict the 'Flag' on test data"
   ]
  },
  {
   "cell_type": "code",
   "execution_count": 13,
   "metadata": {},
   "outputs": [
    {
     "name": "stdout",
     "output_type": "stream",
     "text": [
      "2000\n"
     ]
    }
   ],
   "source": [
    "y_predrf_final = clf.predict(df_TEST)\n",
    "print(y_predrf_final.sum())\n"
   ]
  },
  {
   "cell_type": "code",
   "execution_count": 14,
   "metadata": {},
   "outputs": [
    {
     "data": {
      "text/html": [
       "<div>\n",
       "<style scoped>\n",
       "    .dataframe tbody tr th:only-of-type {\n",
       "        vertical-align: middle;\n",
       "    }\n",
       "\n",
       "    .dataframe tbody tr th {\n",
       "        vertical-align: top;\n",
       "    }\n",
       "\n",
       "    .dataframe thead th {\n",
       "        text-align: right;\n",
       "    }\n",
       "</style>\n",
       "<table border=\"1\" class=\"dataframe\">\n",
       "  <thead>\n",
       "    <tr style=\"text-align: right;\">\n",
       "      <th></th>\n",
       "      <th>Transaction Ref</th>\n",
       "      <th>Flag</th>\n",
       "    </tr>\n",
       "  </thead>\n",
       "  <tbody>\n",
       "    <tr>\n",
       "      <th>0</th>\n",
       "      <td>5B3EDDAD9B56</td>\n",
       "      <td>False</td>\n",
       "    </tr>\n",
       "    <tr>\n",
       "      <th>1</th>\n",
       "      <td>919B633D36</td>\n",
       "      <td>False</td>\n",
       "    </tr>\n",
       "    <tr>\n",
       "      <th>2</th>\n",
       "      <td>B39EE91CBC</td>\n",
       "      <td>False</td>\n",
       "    </tr>\n",
       "    <tr>\n",
       "      <th>3</th>\n",
       "      <td>A6AC7BB94BDED2B7</td>\n",
       "      <td>False</td>\n",
       "    </tr>\n",
       "    <tr>\n",
       "      <th>4</th>\n",
       "      <td>3A83A5ECCB05D3C7</td>\n",
       "      <td>False</td>\n",
       "    </tr>\n",
       "    <tr>\n",
       "      <th>...</th>\n",
       "      <td>...</td>\n",
       "      <td>...</td>\n",
       "    </tr>\n",
       "    <tr>\n",
       "      <th>735330</th>\n",
       "      <td>ADE9C10344CB</td>\n",
       "      <td>False</td>\n",
       "    </tr>\n",
       "    <tr>\n",
       "      <th>735331</th>\n",
       "      <td>B2AD4BC1DCDB</td>\n",
       "      <td>False</td>\n",
       "    </tr>\n",
       "    <tr>\n",
       "      <th>735332</th>\n",
       "      <td>DAC79A527A</td>\n",
       "      <td>False</td>\n",
       "    </tr>\n",
       "    <tr>\n",
       "      <th>735333</th>\n",
       "      <td>2E8091370B8B</td>\n",
       "      <td>False</td>\n",
       "    </tr>\n",
       "    <tr>\n",
       "      <th>735334</th>\n",
       "      <td>A23CE2A183EB</td>\n",
       "      <td>False</td>\n",
       "    </tr>\n",
       "  </tbody>\n",
       "</table>\n",
       "<p>735335 rows × 2 columns</p>\n",
       "</div>"
      ],
      "text/plain": [
       "         Transaction Ref   Flag\n",
       "0           5B3EDDAD9B56  False\n",
       "1             919B633D36  False\n",
       "2             B39EE91CBC  False\n",
       "3       A6AC7BB94BDED2B7  False\n",
       "4       3A83A5ECCB05D3C7  False\n",
       "...                  ...    ...\n",
       "735330      ADE9C10344CB  False\n",
       "735331      B2AD4BC1DCDB  False\n",
       "735332        DAC79A527A  False\n",
       "735333      2E8091370B8B  False\n",
       "735334      A23CE2A183EB  False\n",
       "\n",
       "[735335 rows x 2 columns]"
      ]
     },
     "execution_count": 14,
     "metadata": {},
     "output_type": "execute_result"
    }
   ],
   "source": [
    "sub_DF['Flag'] = y_predrf_final\n",
    "sub_DF"
   ]
  },
  {
   "cell_type": "code",
   "execution_count": 15,
   "metadata": {},
   "outputs": [
    {
     "data": {
      "text/plain": [
       "2000"
      ]
     },
     "execution_count": 15,
     "metadata": {},
     "output_type": "execute_result"
    }
   ],
   "source": [
    "sub_DF.Flag.sum()"
   ]
  },
  {
   "cell_type": "markdown",
   "metadata": {},
   "source": [
    "## 3.4 Save the final prediction to a csv"
   ]
  },
  {
   "cell_type": "code",
   "execution_count": 16,
   "metadata": {},
   "outputs": [],
   "source": [
    "sub_DF.to_csv('./assets/submissionF1_924.csv', index=False)"
   ]
  },
  {
   "cell_type": "markdown",
   "metadata": {},
   "source": [
    "> Optional steps to save the final model and encoders"
   ]
  },
  {
   "cell_type": "code",
   "execution_count": 17,
   "metadata": {},
   "outputs": [
    {
     "data": {
      "text/plain": [
       "['random_forest_924_v773.joblib']"
      ]
     },
     "execution_count": 17,
     "metadata": {},
     "output_type": "execute_result"
    }
   ],
   "source": [
    "joblib.dump(clf, 'random_forest_924_v773.joblib') "
   ]
  },
  {
   "cell_type": "code",
   "execution_count": 18,
   "metadata": {},
   "outputs": [
    {
     "data": {
      "text/plain": [
       "['encoderTv773.joblib']"
      ]
     },
     "execution_count": 18,
     "metadata": {},
     "output_type": "execute_result"
    }
   ],
   "source": [
    "joblib.dump(encoderT, 'encoderTv773.joblib')"
   ]
  },
  {
   "cell_type": "code",
   "execution_count": 19,
   "metadata": {},
   "outputs": [
    {
     "data": {
      "text/plain": [
       "['count_encv773.joblib']"
      ]
     },
     "execution_count": 19,
     "metadata": {},
     "output_type": "execute_result"
    }
   ],
   "source": [
    "# count_enc\n",
    "joblib.dump(count_enc, 'count_encv773.joblib')"
   ]
  },
  {
   "cell_type": "code",
   "execution_count": null,
   "metadata": {},
   "outputs": [],
   "source": []
  }
 ],
 "metadata": {
  "kernelspec": {
   "display_name": "Python 3",
   "language": "python",
   "name": "python3"
  },
  "language_info": {
   "codemirror_mode": {
    "name": "ipython",
    "version": 3
   },
   "file_extension": ".py",
   "mimetype": "text/x-python",
   "name": "python",
   "nbconvert_exporter": "python",
   "pygments_lexer": "ipython3",
   "version": "3.7.6"
  }
 },
 "nbformat": 4,
 "nbformat_minor": 4
}
