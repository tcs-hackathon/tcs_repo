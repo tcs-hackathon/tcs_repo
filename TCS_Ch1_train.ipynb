{
 "cells": [
  {
   "cell_type": "code",
   "execution_count": 1,
   "metadata": {},
   "outputs": [],
   "source": [
    "# Connect to Postgres\n",
    "import os\n",
    "import psycopg2\n",
    "def newCursor():\n",
    "    try:\n",
    "        connection = psycopg2.connect(user = os.environ[\"DB_USER\"],\n",
    "                                      host = os.environ[\"DB_HOST\"],\n",
    "                                      password = os.environ[\"DB_PASSWORD\"],\n",
    "                                      port = \"5432\",\n",
    "                                      database = os.environ[\"DB_DATABASE\"])\n",
    "\n",
    "        cursor = connection.cursor()\n",
    "        return cursor\n",
    "\n",
    "    except (Exception, psycopg2.Error) as error:\n",
    "        print(\"Error while connecting to PostgreSQL\", error)\n",
    "        return error"
   ]
  },
  {
   "cell_type": "code",
   "execution_count": 2,
   "metadata": {},
   "outputs": [
    {
     "name": "stdout",
     "output_type": "stream",
     "text": [
      "simulated_fin_parsed_hackathon\n",
      "simulated_data_senders_train_hackathon\n",
      "simulated_data_senders_test_hackathon\n"
     ]
    }
   ],
   "source": [
    "c = newCursor()\n",
    "q = \"\"\"\n",
    "SELECT table_name\n",
    "  FROM information_schema.tables\n",
    " WHERE table_schema='swift'\n",
    "   AND table_type='BASE TABLE'\n",
    "\"\"\"\n",
    "c.execute(q)\n",
    "swift_tables = c.fetchall()\n",
    "for table in swift_tables:\n",
    "    print(table[0])"
   ]
  },
  {
   "cell_type": "code",
   "execution_count": 3,
   "metadata": {},
   "outputs": [
    {
     "data": {
      "text/html": [
       "<div>\n",
       "<style scoped>\n",
       "    .dataframe tbody tr th:only-of-type {\n",
       "        vertical-align: middle;\n",
       "    }\n",
       "\n",
       "    .dataframe tbody tr th {\n",
       "        vertical-align: top;\n",
       "    }\n",
       "\n",
       "    .dataframe thead th {\n",
       "        text-align: right;\n",
       "    }\n",
       "</style>\n",
       "<table border=\"1\" class=\"dataframe\">\n",
       "  <thead>\n",
       "    <tr style=\"text-align: right;\">\n",
       "      <th></th>\n",
       "      <th>Transaction Ref</th>\n",
       "      <th>Originator</th>\n",
       "      <th>Sender</th>\n",
       "      <th>Receiver</th>\n",
       "      <th>Beneficiary</th>\n",
       "      <th>Date</th>\n",
       "      <th>Time</th>\n",
       "      <th>Currency</th>\n",
       "      <th>Value</th>\n",
       "      <th>Flag</th>\n",
       "    </tr>\n",
       "  </thead>\n",
       "  <tbody>\n",
       "    <tr>\n",
       "      <th>0</th>\n",
       "      <td>9D7125820D5E</td>\n",
       "      <td>ARPWSTXX</td>\n",
       "      <td>ARPWSTXX</td>\n",
       "      <td>KMZBTCXX</td>\n",
       "      <td>KMZBTCXX</td>\n",
       "      <td>190726</td>\n",
       "      <td>1335</td>\n",
       "      <td>67B</td>\n",
       "      <td>10201</td>\n",
       "      <td>False</td>\n",
       "    </tr>\n",
       "    <tr>\n",
       "      <th>1</th>\n",
       "      <td>0D1888782D9A</td>\n",
       "      <td>ARPWSTXX</td>\n",
       "      <td>ARPWSTXX</td>\n",
       "      <td>HUAFSRXX</td>\n",
       "      <td>VLOPPGXX</td>\n",
       "      <td>190429</td>\n",
       "      <td>1259</td>\n",
       "      <td>84D</td>\n",
       "      <td>45806</td>\n",
       "      <td>False</td>\n",
       "    </tr>\n",
       "    <tr>\n",
       "      <th>2</th>\n",
       "      <td>D20DA4E657EC</td>\n",
       "      <td>BFNHHRXX</td>\n",
       "      <td>BFNHHRXX</td>\n",
       "      <td>LQGKPNXX</td>\n",
       "      <td>YKMCMCXX</td>\n",
       "      <td>190626</td>\n",
       "      <td>1220</td>\n",
       "      <td>67E</td>\n",
       "      <td>2137157</td>\n",
       "      <td>False</td>\n",
       "    </tr>\n",
       "    <tr>\n",
       "      <th>3</th>\n",
       "      <td>AEE73E990B</td>\n",
       "      <td>BCFTZWXX</td>\n",
       "      <td>BCFTZWXX</td>\n",
       "      <td>WGCOPNXX</td>\n",
       "      <td>ZKLYYEXX</td>\n",
       "      <td>191204</td>\n",
       "      <td>915</td>\n",
       "      <td>F8D</td>\n",
       "      <td>406778</td>\n",
       "      <td>False</td>\n",
       "    </tr>\n",
       "    <tr>\n",
       "      <th>4</th>\n",
       "      <td>2BEB278530</td>\n",
       "      <td>BSKJPWXX</td>\n",
       "      <td>BSKJPWXX</td>\n",
       "      <td>XDFDCHXX</td>\n",
       "      <td>XEWHINXX</td>\n",
       "      <td>191008</td>\n",
       "      <td>818</td>\n",
       "      <td>41B</td>\n",
       "      <td>65141</td>\n",
       "      <td>False</td>\n",
       "    </tr>\n",
       "  </tbody>\n",
       "</table>\n",
       "</div>"
      ],
      "text/plain": [
       "  Transaction Ref Originator    Sender  Receiver Beneficiary    Date  Time  \\\n",
       "0    9D7125820D5E   ARPWSTXX  ARPWSTXX  KMZBTCXX    KMZBTCXX  190726  1335   \n",
       "1    0D1888782D9A   ARPWSTXX  ARPWSTXX  HUAFSRXX    VLOPPGXX  190429  1259   \n",
       "2    D20DA4E657EC   BFNHHRXX  BFNHHRXX  LQGKPNXX    YKMCMCXX  190626  1220   \n",
       "3      AEE73E990B   BCFTZWXX  BCFTZWXX  WGCOPNXX    ZKLYYEXX  191204   915   \n",
       "4      2BEB278530   BSKJPWXX  BSKJPWXX  XDFDCHXX    XEWHINXX  191008   818   \n",
       "\n",
       "  Currency    Value   Flag  \n",
       "0      67B    10201  False  \n",
       "1      84D    45806  False  \n",
       "2      67E  2137157  False  \n",
       "3      F8D   406778  False  \n",
       "4      41B    65141  False  "
      ]
     },
     "execution_count": 3,
     "metadata": {},
     "output_type": "execute_result"
    }
   ],
   "source": [
    "import pandas as pd\n",
    "\n",
    "c = newCursor()\n",
    "q = \"\"\"\n",
    "SELECT *\n",
    "FROM swift.\"simulated_data_senders_train_hackathon\"\n",
    "\n",
    "\"\"\"\n",
    "c.execute(q)\n",
    "cols = [desc[0] for desc in c.description]\n",
    "df = pd.DataFrame(c.fetchall(), columns=cols)\n",
    "df.head()"
   ]
  },
  {
   "cell_type": "markdown",
   "metadata": {},
   "source": [
    "## 1.0 Install the required libraries\n",
    "> Category encoders provide functions to convert categoricals"
   ]
  },
  {
   "cell_type": "code",
   "execution_count": 4,
   "metadata": {},
   "outputs": [],
   "source": [
    "# !pip install category_encoders\n",
    "# !pip install sklearn\n",
    "# !pip install imblearn\n",
    "### below installations not required\n",
    "# !pip install pycaret[full]\n",
    "\n",
    "# !pip install xgboost\n"
   ]
  },
  {
   "cell_type": "code",
   "execution_count": 5,
   "metadata": {},
   "outputs": [],
   "source": [
    "import pandas as pd\n",
    "import numpy as np \n",
    "from sklearn.metrics import confusion_matrix\n",
    "import category_encoders as ce\n",
    "from sklearn.model_selection import train_test_split\n",
    "import gc\n",
    "from imblearn.over_sampling import SMOTE\n",
    "# from imblearn.under_sampling import RandomUnderSampler"
   ]
  },
  {
   "cell_type": "code",
   "execution_count": 6,
   "metadata": {},
   "outputs": [
    {
     "data": {
      "text/html": [
       "<div>\n",
       "<style scoped>\n",
       "    .dataframe tbody tr th:only-of-type {\n",
       "        vertical-align: middle;\n",
       "    }\n",
       "\n",
       "    .dataframe tbody tr th {\n",
       "        vertical-align: top;\n",
       "    }\n",
       "\n",
       "    .dataframe thead th {\n",
       "        text-align: right;\n",
       "    }\n",
       "</style>\n",
       "<table border=\"1\" class=\"dataframe\">\n",
       "  <thead>\n",
       "    <tr style=\"text-align: right;\">\n",
       "      <th></th>\n",
       "      <th>Transaction Ref</th>\n",
       "      <th>Originator</th>\n",
       "      <th>Sender</th>\n",
       "      <th>Receiver</th>\n",
       "      <th>Beneficiary</th>\n",
       "      <th>Date</th>\n",
       "      <th>Time</th>\n",
       "      <th>Currency</th>\n",
       "      <th>Value</th>\n",
       "      <th>Flag</th>\n",
       "    </tr>\n",
       "  </thead>\n",
       "  <tbody>\n",
       "    <tr>\n",
       "      <th>0</th>\n",
       "      <td>9D7125820D5E</td>\n",
       "      <td>ARPWSTXX</td>\n",
       "      <td>ARPWSTXX</td>\n",
       "      <td>KMZBTCXX</td>\n",
       "      <td>KMZBTCXX</td>\n",
       "      <td>190726</td>\n",
       "      <td>1335</td>\n",
       "      <td>67B</td>\n",
       "      <td>10201</td>\n",
       "      <td>False</td>\n",
       "    </tr>\n",
       "    <tr>\n",
       "      <th>1</th>\n",
       "      <td>0D1888782D9A</td>\n",
       "      <td>ARPWSTXX</td>\n",
       "      <td>ARPWSTXX</td>\n",
       "      <td>HUAFSRXX</td>\n",
       "      <td>VLOPPGXX</td>\n",
       "      <td>190429</td>\n",
       "      <td>1259</td>\n",
       "      <td>84D</td>\n",
       "      <td>45806</td>\n",
       "      <td>False</td>\n",
       "    </tr>\n",
       "    <tr>\n",
       "      <th>2</th>\n",
       "      <td>D20DA4E657EC</td>\n",
       "      <td>BFNHHRXX</td>\n",
       "      <td>BFNHHRXX</td>\n",
       "      <td>LQGKPNXX</td>\n",
       "      <td>YKMCMCXX</td>\n",
       "      <td>190626</td>\n",
       "      <td>1220</td>\n",
       "      <td>67E</td>\n",
       "      <td>2137157</td>\n",
       "      <td>False</td>\n",
       "    </tr>\n",
       "    <tr>\n",
       "      <th>3</th>\n",
       "      <td>AEE73E990B</td>\n",
       "      <td>BCFTZWXX</td>\n",
       "      <td>BCFTZWXX</td>\n",
       "      <td>WGCOPNXX</td>\n",
       "      <td>ZKLYYEXX</td>\n",
       "      <td>191204</td>\n",
       "      <td>915</td>\n",
       "      <td>F8D</td>\n",
       "      <td>406778</td>\n",
       "      <td>False</td>\n",
       "    </tr>\n",
       "    <tr>\n",
       "      <th>4</th>\n",
       "      <td>2BEB278530</td>\n",
       "      <td>BSKJPWXX</td>\n",
       "      <td>BSKJPWXX</td>\n",
       "      <td>XDFDCHXX</td>\n",
       "      <td>XEWHINXX</td>\n",
       "      <td>191008</td>\n",
       "      <td>818</td>\n",
       "      <td>41B</td>\n",
       "      <td>65141</td>\n",
       "      <td>False</td>\n",
       "    </tr>\n",
       "  </tbody>\n",
       "</table>\n",
       "</div>"
      ],
      "text/plain": [
       "  Transaction Ref Originator    Sender  Receiver Beneficiary    Date  Time  \\\n",
       "0    9D7125820D5E   ARPWSTXX  ARPWSTXX  KMZBTCXX    KMZBTCXX  190726  1335   \n",
       "1    0D1888782D9A   ARPWSTXX  ARPWSTXX  HUAFSRXX    VLOPPGXX  190429  1259   \n",
       "2    D20DA4E657EC   BFNHHRXX  BFNHHRXX  LQGKPNXX    YKMCMCXX  190626  1220   \n",
       "3      AEE73E990B   BCFTZWXX  BCFTZWXX  WGCOPNXX    ZKLYYEXX  191204   915   \n",
       "4      2BEB278530   BSKJPWXX  BSKJPWXX  XDFDCHXX    XEWHINXX  191008   818   \n",
       "\n",
       "  Currency    Value   Flag  \n",
       "0      67B    10201  False  \n",
       "1      84D    45806  False  \n",
       "2      67E  2137157  False  \n",
       "3      F8D   406778  False  \n",
       "4      41B    65141  False  "
      ]
     },
     "execution_count": 6,
     "metadata": {},
     "output_type": "execute_result"
    }
   ],
   "source": [
    "df.head()"
   ]
  },
  {
   "cell_type": "markdown",
   "metadata": {},
   "source": [
    "## 2.0 Create additional features\n",
    ">We treat the problem as that of binary classification. We'll use sklearn models to train a classifier"
   ]
  },
  {
   "cell_type": "code",
   "execution_count": 7,
   "metadata": {},
   "outputs": [],
   "source": [
    "df['SR'] = df.Sender+df.Receiver"
   ]
  },
  {
   "cell_type": "code",
   "execution_count": 8,
   "metadata": {},
   "outputs": [],
   "source": [
    "df['SB']= df.Sender+df.Beneficiary"
   ]
  },
  {
   "cell_type": "code",
   "execution_count": 9,
   "metadata": {},
   "outputs": [],
   "source": [
    "df['RB']=df.Receiver+df.Beneficiary"
   ]
  },
  {
   "cell_type": "code",
   "execution_count": 10,
   "metadata": {},
   "outputs": [],
   "source": [
    "df['SC']= df.Sender+df.Currency"
   ]
  },
  {
   "cell_type": "code",
   "execution_count": 11,
   "metadata": {},
   "outputs": [],
   "source": [
    "df['BC']=df.Beneficiary+df.Currency"
   ]
  },
  {
   "cell_type": "markdown",
   "metadata": {},
   "source": [
    "> Use the Date and Time fields to create a pythong Datetime field. Using python Datetime fields, we add additional features"
   ]
  },
  {
   "cell_type": "code",
   "execution_count": 12,
   "metadata": {},
   "outputs": [],
   "source": [
    "df['Datetime'] = df.Date*10000+df.Time\n",
    "df['Datetime'] = pd.to_datetime(df['Datetime'].astype(str), format='%y%m%d%H%M')\n",
    "df['mon'] = df.Datetime.dt.month\n",
    "df['dom'] = df.Datetime.dt.day\n",
    "df['dow'] = df.Datetime.dt.dayofweek\n",
    "df['q'] = df.Datetime.dt.quarter\n",
    "df['h'] = df.Datetime.dt.hour\n",
    "df['m'] = df.Datetime.dt.minute"
   ]
  },
  {
   "cell_type": "code",
   "execution_count": 13,
   "metadata": {},
   "outputs": [
    {
     "data": {
      "text/html": [
       "<div>\n",
       "<style scoped>\n",
       "    .dataframe tbody tr th:only-of-type {\n",
       "        vertical-align: middle;\n",
       "    }\n",
       "\n",
       "    .dataframe tbody tr th {\n",
       "        vertical-align: top;\n",
       "    }\n",
       "\n",
       "    .dataframe thead th {\n",
       "        text-align: right;\n",
       "    }\n",
       "</style>\n",
       "<table border=\"1\" class=\"dataframe\">\n",
       "  <thead>\n",
       "    <tr style=\"text-align: right;\">\n",
       "      <th></th>\n",
       "      <th>Transaction Ref</th>\n",
       "      <th>Originator</th>\n",
       "      <th>Sender</th>\n",
       "      <th>Receiver</th>\n",
       "      <th>Beneficiary</th>\n",
       "      <th>Date</th>\n",
       "      <th>Time</th>\n",
       "      <th>Currency</th>\n",
       "      <th>Value</th>\n",
       "      <th>Flag</th>\n",
       "      <th>...</th>\n",
       "      <th>RB</th>\n",
       "      <th>SC</th>\n",
       "      <th>BC</th>\n",
       "      <th>Datetime</th>\n",
       "      <th>mon</th>\n",
       "      <th>dom</th>\n",
       "      <th>dow</th>\n",
       "      <th>q</th>\n",
       "      <th>h</th>\n",
       "      <th>m</th>\n",
       "    </tr>\n",
       "  </thead>\n",
       "  <tbody>\n",
       "    <tr>\n",
       "      <th>0</th>\n",
       "      <td>9D7125820D5E</td>\n",
       "      <td>ARPWSTXX</td>\n",
       "      <td>ARPWSTXX</td>\n",
       "      <td>KMZBTCXX</td>\n",
       "      <td>KMZBTCXX</td>\n",
       "      <td>190726</td>\n",
       "      <td>1335</td>\n",
       "      <td>67B</td>\n",
       "      <td>10201</td>\n",
       "      <td>False</td>\n",
       "      <td>...</td>\n",
       "      <td>KMZBTCXXKMZBTCXX</td>\n",
       "      <td>ARPWSTXX67B</td>\n",
       "      <td>KMZBTCXX67B</td>\n",
       "      <td>2019-07-26 13:35:00</td>\n",
       "      <td>7</td>\n",
       "      <td>26</td>\n",
       "      <td>4</td>\n",
       "      <td>3</td>\n",
       "      <td>13</td>\n",
       "      <td>35</td>\n",
       "    </tr>\n",
       "    <tr>\n",
       "      <th>1</th>\n",
       "      <td>0D1888782D9A</td>\n",
       "      <td>ARPWSTXX</td>\n",
       "      <td>ARPWSTXX</td>\n",
       "      <td>HUAFSRXX</td>\n",
       "      <td>VLOPPGXX</td>\n",
       "      <td>190429</td>\n",
       "      <td>1259</td>\n",
       "      <td>84D</td>\n",
       "      <td>45806</td>\n",
       "      <td>False</td>\n",
       "      <td>...</td>\n",
       "      <td>HUAFSRXXVLOPPGXX</td>\n",
       "      <td>ARPWSTXX84D</td>\n",
       "      <td>VLOPPGXX84D</td>\n",
       "      <td>2019-04-29 12:59:00</td>\n",
       "      <td>4</td>\n",
       "      <td>29</td>\n",
       "      <td>0</td>\n",
       "      <td>2</td>\n",
       "      <td>12</td>\n",
       "      <td>59</td>\n",
       "    </tr>\n",
       "    <tr>\n",
       "      <th>2</th>\n",
       "      <td>D20DA4E657EC</td>\n",
       "      <td>BFNHHRXX</td>\n",
       "      <td>BFNHHRXX</td>\n",
       "      <td>LQGKPNXX</td>\n",
       "      <td>YKMCMCXX</td>\n",
       "      <td>190626</td>\n",
       "      <td>1220</td>\n",
       "      <td>67E</td>\n",
       "      <td>2137157</td>\n",
       "      <td>False</td>\n",
       "      <td>...</td>\n",
       "      <td>LQGKPNXXYKMCMCXX</td>\n",
       "      <td>BFNHHRXX67E</td>\n",
       "      <td>YKMCMCXX67E</td>\n",
       "      <td>2019-06-26 12:20:00</td>\n",
       "      <td>6</td>\n",
       "      <td>26</td>\n",
       "      <td>2</td>\n",
       "      <td>2</td>\n",
       "      <td>12</td>\n",
       "      <td>20</td>\n",
       "    </tr>\n",
       "    <tr>\n",
       "      <th>3</th>\n",
       "      <td>AEE73E990B</td>\n",
       "      <td>BCFTZWXX</td>\n",
       "      <td>BCFTZWXX</td>\n",
       "      <td>WGCOPNXX</td>\n",
       "      <td>ZKLYYEXX</td>\n",
       "      <td>191204</td>\n",
       "      <td>915</td>\n",
       "      <td>F8D</td>\n",
       "      <td>406778</td>\n",
       "      <td>False</td>\n",
       "      <td>...</td>\n",
       "      <td>WGCOPNXXZKLYYEXX</td>\n",
       "      <td>BCFTZWXXF8D</td>\n",
       "      <td>ZKLYYEXXF8D</td>\n",
       "      <td>2019-12-04 09:15:00</td>\n",
       "      <td>12</td>\n",
       "      <td>4</td>\n",
       "      <td>2</td>\n",
       "      <td>4</td>\n",
       "      <td>9</td>\n",
       "      <td>15</td>\n",
       "    </tr>\n",
       "    <tr>\n",
       "      <th>4</th>\n",
       "      <td>2BEB278530</td>\n",
       "      <td>BSKJPWXX</td>\n",
       "      <td>BSKJPWXX</td>\n",
       "      <td>XDFDCHXX</td>\n",
       "      <td>XEWHINXX</td>\n",
       "      <td>191008</td>\n",
       "      <td>818</td>\n",
       "      <td>41B</td>\n",
       "      <td>65141</td>\n",
       "      <td>False</td>\n",
       "      <td>...</td>\n",
       "      <td>XDFDCHXXXEWHINXX</td>\n",
       "      <td>BSKJPWXX41B</td>\n",
       "      <td>XEWHINXX41B</td>\n",
       "      <td>2019-10-08 08:18:00</td>\n",
       "      <td>10</td>\n",
       "      <td>8</td>\n",
       "      <td>1</td>\n",
       "      <td>4</td>\n",
       "      <td>8</td>\n",
       "      <td>18</td>\n",
       "    </tr>\n",
       "  </tbody>\n",
       "</table>\n",
       "<p>5 rows × 22 columns</p>\n",
       "</div>"
      ],
      "text/plain": [
       "  Transaction Ref Originator    Sender  Receiver Beneficiary    Date  Time  \\\n",
       "0    9D7125820D5E   ARPWSTXX  ARPWSTXX  KMZBTCXX    KMZBTCXX  190726  1335   \n",
       "1    0D1888782D9A   ARPWSTXX  ARPWSTXX  HUAFSRXX    VLOPPGXX  190429  1259   \n",
       "2    D20DA4E657EC   BFNHHRXX  BFNHHRXX  LQGKPNXX    YKMCMCXX  190626  1220   \n",
       "3      AEE73E990B   BCFTZWXX  BCFTZWXX  WGCOPNXX    ZKLYYEXX  191204   915   \n",
       "4      2BEB278530   BSKJPWXX  BSKJPWXX  XDFDCHXX    XEWHINXX  191008   818   \n",
       "\n",
       "  Currency    Value   Flag  ...                RB           SC           BC  \\\n",
       "0      67B    10201  False  ...  KMZBTCXXKMZBTCXX  ARPWSTXX67B  KMZBTCXX67B   \n",
       "1      84D    45806  False  ...  HUAFSRXXVLOPPGXX  ARPWSTXX84D  VLOPPGXX84D   \n",
       "2      67E  2137157  False  ...  LQGKPNXXYKMCMCXX  BFNHHRXX67E  YKMCMCXX67E   \n",
       "3      F8D   406778  False  ...  WGCOPNXXZKLYYEXX  BCFTZWXXF8D  ZKLYYEXXF8D   \n",
       "4      41B    65141  False  ...  XDFDCHXXXEWHINXX  BSKJPWXX41B  XEWHINXX41B   \n",
       "\n",
       "             Datetime mon dom  dow  q   h   m  \n",
       "0 2019-07-26 13:35:00   7  26    4  3  13  35  \n",
       "1 2019-04-29 12:59:00   4  29    0  2  12  59  \n",
       "2 2019-06-26 12:20:00   6  26    2  2  12  20  \n",
       "3 2019-12-04 09:15:00  12   4    2  4   9  15  \n",
       "4 2019-10-08 08:18:00  10   8    1  4   8  18  \n",
       "\n",
       "[5 rows x 22 columns]"
      ]
     },
     "execution_count": 13,
     "metadata": {},
     "output_type": "execute_result"
    }
   ],
   "source": [
    "df.head()"
   ]
  },
  {
   "cell_type": "markdown",
   "metadata": {},
   "source": [
    "> Combine Currency and Month features"
   ]
  },
  {
   "cell_type": "code",
   "execution_count": 14,
   "metadata": {},
   "outputs": [],
   "source": [
    "df['Cmon'] = df.Currency+df.mon.astype(str)\n",
    "df['Cdom'] = df.Currency+df.dom.astype(str)"
   ]
  },
  {
   "cell_type": "markdown",
   "metadata": {},
   "source": [
    "> Let's perform the train/test spilt Experimentation started with 80/20 split. Finally on a stable and more accurate model we are trying 95/5 split"
   ]
  },
  {
   "cell_type": "code",
   "execution_count": 15,
   "metadata": {},
   "outputs": [],
   "source": [
    "x_train, x_test, = train_test_split(df,stratify=df['Flag'],random_state=42,test_size=0.05)"
   ]
  },
  {
   "cell_type": "code",
   "execution_count": 16,
   "metadata": {},
   "outputs": [
    {
     "data": {
      "text/plain": [
       "Index(['Transaction Ref', 'Originator', 'Sender', 'Receiver', 'Beneficiary',\n",
       "       'Date', 'Time', 'Currency', 'Value', 'Flag', 'SR', 'SB', 'RB', 'SC',\n",
       "       'BC', 'Datetime', 'mon', 'dom', 'dow', 'q', 'h', 'm', 'Cmon', 'Cdom'],\n",
       "      dtype='object')"
      ]
     },
     "execution_count": 16,
     "metadata": {},
     "output_type": "execute_result"
    }
   ],
   "source": [
    "df.columns"
   ]
  },
  {
   "cell_type": "markdown",
   "metadata": {},
   "source": [
    "### 2.1 Use count encoder to frequency encode the categorical fields"
   ]
  },
  {
   "cell_type": "code",
   "execution_count": 17,
   "metadata": {},
   "outputs": [],
   "source": [
    "cat_features=['Sender', 'Receiver', 'Beneficiary', 'Date', 'Currency',  'SR',\n",
    "       'SB', 'RB', 'SC', 'BC', 'mon', 'dom', 'dow', 'q', 'h','Cmon','Cdom']\n",
    "count_enc = ce.CountEncoder()\n",
    "\n",
    "count_encoded_train = count_enc.fit_transform(x_train[cat_features])\n",
    "count_encoded_test = count_enc.transform(x_test[cat_features])\n"
   ]
  },
  {
   "cell_type": "code",
   "execution_count": 18,
   "metadata": {},
   "outputs": [],
   "source": [
    "x_train = x_train.join(count_encoded_train.add_suffix(\"_count\"))\n",
    "x_test = x_test.join(count_encoded_test.add_suffix(\"_count\"))\n"
   ]
  },
  {
   "cell_type": "code",
   "execution_count": 19,
   "metadata": {},
   "outputs": [
    {
     "data": {
      "text/html": [
       "<div>\n",
       "<style scoped>\n",
       "    .dataframe tbody tr th:only-of-type {\n",
       "        vertical-align: middle;\n",
       "    }\n",
       "\n",
       "    .dataframe tbody tr th {\n",
       "        vertical-align: top;\n",
       "    }\n",
       "\n",
       "    .dataframe thead th {\n",
       "        text-align: right;\n",
       "    }\n",
       "</style>\n",
       "<table border=\"1\" class=\"dataframe\">\n",
       "  <thead>\n",
       "    <tr style=\"text-align: right;\">\n",
       "      <th></th>\n",
       "      <th>Transaction Ref</th>\n",
       "      <th>Originator</th>\n",
       "      <th>Sender</th>\n",
       "      <th>Receiver</th>\n",
       "      <th>Beneficiary</th>\n",
       "      <th>Date</th>\n",
       "      <th>Time</th>\n",
       "      <th>Currency</th>\n",
       "      <th>Value</th>\n",
       "      <th>Flag</th>\n",
       "      <th>...</th>\n",
       "      <th>RB_count</th>\n",
       "      <th>SC_count</th>\n",
       "      <th>BC_count</th>\n",
       "      <th>mon_count</th>\n",
       "      <th>dom_count</th>\n",
       "      <th>dow_count</th>\n",
       "      <th>q_count</th>\n",
       "      <th>h_count</th>\n",
       "      <th>Cmon_count</th>\n",
       "      <th>Cdom_count</th>\n",
       "    </tr>\n",
       "  </thead>\n",
       "  <tbody>\n",
       "    <tr>\n",
       "      <th>2679805</th>\n",
       "      <td>CBA3D95829ED</td>\n",
       "      <td>BQUSERXX</td>\n",
       "      <td>BQUSERXX</td>\n",
       "      <td>BCBVGHXX</td>\n",
       "      <td>BCBVGHXX</td>\n",
       "      <td>190104</td>\n",
       "      <td>1817</td>\n",
       "      <td>8B9</td>\n",
       "      <td>129421</td>\n",
       "      <td>False</td>\n",
       "      <td>...</td>\n",
       "      <td>100.0</td>\n",
       "      <td>5205</td>\n",
       "      <td>258.0</td>\n",
       "      <td>1</td>\n",
       "      <td>4</td>\n",
       "      <td>4</td>\n",
       "      <td>1</td>\n",
       "      <td>18</td>\n",
       "      <td>3733</td>\n",
       "      <td>1596</td>\n",
       "    </tr>\n",
       "    <tr>\n",
       "      <th>273845</th>\n",
       "      <td>9DD08AC11C69</td>\n",
       "      <td>BDCKMLXX</td>\n",
       "      <td>BDCKMLXX</td>\n",
       "      <td>LXZXIQXX</td>\n",
       "      <td>HIVUAWXX</td>\n",
       "      <td>190520</td>\n",
       "      <td>903</td>\n",
       "      <td>97F</td>\n",
       "      <td>1102984</td>\n",
       "      <td>False</td>\n",
       "      <td>...</td>\n",
       "      <td>30.0</td>\n",
       "      <td>9195</td>\n",
       "      <td>310.0</td>\n",
       "      <td>5</td>\n",
       "      <td>20</td>\n",
       "      <td>0</td>\n",
       "      <td>2</td>\n",
       "      <td>9</td>\n",
       "      <td>797</td>\n",
       "      <td>288</td>\n",
       "    </tr>\n",
       "    <tr>\n",
       "      <th>3273225</th>\n",
       "      <td>548C54AEC2D9</td>\n",
       "      <td>ATCUIDXX</td>\n",
       "      <td>ATCUIDXX</td>\n",
       "      <td>NQOHIDXX</td>\n",
       "      <td>NQOHIDXX</td>\n",
       "      <td>190604</td>\n",
       "      <td>1139</td>\n",
       "      <td>D9A</td>\n",
       "      <td>137815</td>\n",
       "      <td>False</td>\n",
       "      <td>...</td>\n",
       "      <td>313.0</td>\n",
       "      <td>1197</td>\n",
       "      <td>122.0</td>\n",
       "      <td>6</td>\n",
       "      <td>4</td>\n",
       "      <td>1</td>\n",
       "      <td>2</td>\n",
       "      <td>11</td>\n",
       "      <td>1965</td>\n",
       "      <td>948</td>\n",
       "    </tr>\n",
       "    <tr>\n",
       "      <th>2187173</th>\n",
       "      <td>C7BB6CA30EEDE8C9</td>\n",
       "      <td>ARZNGYXX</td>\n",
       "      <td>ARZNGYXX</td>\n",
       "      <td>TYPQINXX</td>\n",
       "      <td>FXGLRSXX</td>\n",
       "      <td>191204</td>\n",
       "      <td>1347</td>\n",
       "      <td>1E6</td>\n",
       "      <td>79005</td>\n",
       "      <td>False</td>\n",
       "      <td>...</td>\n",
       "      <td>145.0</td>\n",
       "      <td>30059</td>\n",
       "      <td>747.0</td>\n",
       "      <td>12</td>\n",
       "      <td>4</td>\n",
       "      <td>2</td>\n",
       "      <td>4</td>\n",
       "      <td>13</td>\n",
       "      <td>6873</td>\n",
       "      <td>3139</td>\n",
       "    </tr>\n",
       "    <tr>\n",
       "      <th>1755216</th>\n",
       "      <td>E47CC6A216CA</td>\n",
       "      <td>BFNHHRXX</td>\n",
       "      <td>BFNHHRXX</td>\n",
       "      <td>OHMRHRXX</td>\n",
       "      <td>OHMRHRXX</td>\n",
       "      <td>190320</td>\n",
       "      <td>1628</td>\n",
       "      <td>87F</td>\n",
       "      <td>1526177</td>\n",
       "      <td>False</td>\n",
       "      <td>...</td>\n",
       "      <td>4142.0</td>\n",
       "      <td>30765</td>\n",
       "      <td>3030.0</td>\n",
       "      <td>3</td>\n",
       "      <td>20</td>\n",
       "      <td>2</td>\n",
       "      <td>1</td>\n",
       "      <td>16</td>\n",
       "      <td>2896</td>\n",
       "      <td>1078</td>\n",
       "    </tr>\n",
       "  </tbody>\n",
       "</table>\n",
       "<p>5 rows × 41 columns</p>\n",
       "</div>"
      ],
      "text/plain": [
       "          Transaction Ref Originator    Sender  Receiver Beneficiary    Date  \\\n",
       "2679805      CBA3D95829ED   BQUSERXX  BQUSERXX  BCBVGHXX    BCBVGHXX  190104   \n",
       "273845       9DD08AC11C69   BDCKMLXX  BDCKMLXX  LXZXIQXX    HIVUAWXX  190520   \n",
       "3273225      548C54AEC2D9   ATCUIDXX  ATCUIDXX  NQOHIDXX    NQOHIDXX  190604   \n",
       "2187173  C7BB6CA30EEDE8C9   ARZNGYXX  ARZNGYXX  TYPQINXX    FXGLRSXX  191204   \n",
       "1755216      E47CC6A216CA   BFNHHRXX  BFNHHRXX  OHMRHRXX    OHMRHRXX  190320   \n",
       "\n",
       "         Time Currency    Value   Flag  ... RB_count SC_count BC_count  \\\n",
       "2679805  1817      8B9   129421  False  ...    100.0     5205    258.0   \n",
       "273845    903      97F  1102984  False  ...     30.0     9195    310.0   \n",
       "3273225  1139      D9A   137815  False  ...    313.0     1197    122.0   \n",
       "2187173  1347      1E6    79005  False  ...    145.0    30059    747.0   \n",
       "1755216  1628      87F  1526177  False  ...   4142.0    30765   3030.0   \n",
       "\n",
       "        mon_count dom_count dow_count  q_count  h_count  Cmon_count  \\\n",
       "2679805         1         4         4        1       18        3733   \n",
       "273845          5        20         0        2        9         797   \n",
       "3273225         6         4         1        2       11        1965   \n",
       "2187173        12         4         2        4       13        6873   \n",
       "1755216         3        20         2        1       16        2896   \n",
       "\n",
       "         Cdom_count  \n",
       "2679805        1596  \n",
       "273845          288  \n",
       "3273225         948  \n",
       "2187173        3139  \n",
       "1755216        1078  \n",
       "\n",
       "[5 rows x 41 columns]"
      ]
     },
     "execution_count": 19,
     "metadata": {},
     "output_type": "execute_result"
    }
   ],
   "source": [
    "x_test.head()"
   ]
  },
  {
   "cell_type": "markdown",
   "metadata": {},
   "source": [
    "### 2.2 Convert the Value field into number. Create more combinations of features on mean of corresponding Value"
   ]
  },
  {
   "cell_type": "code",
   "execution_count": 20,
   "metadata": {},
   "outputs": [],
   "source": [
    "x_train.Value = x_train.Value.astype(int)\n",
    "x_test.Value = x_test.Value.astype(int)"
   ]
  },
  {
   "cell_type": "code",
   "execution_count": 21,
   "metadata": {},
   "outputs": [],
   "source": [
    "x_train['Currency_mean'] = x_train.groupby('Currency')['Value'].transform('mean')\n",
    "x_train['Bene_mean'] = x_train.groupby('Beneficiary')['Value'].transform('mean')\n",
    "x_train['SC_count_mean'] = x_train.groupby('SC_count')['Value'].transform('mean')\n",
    "x_train['BC_count_mean'] = x_train.groupby('BC_count')['Value'].transform('mean')\n",
    "x_train['Date_mean'] = x_train.groupby('Date')['Value'].transform('mean')\n",
    "\n",
    "x_test['Currency_mean'] = x_test.groupby('Currency')['Value'].transform('mean')\n",
    "x_test['Bene_mean'] = x_test.groupby('Beneficiary')['Value'].transform('mean')\n",
    "x_test['SC_count_mean'] = x_test.groupby('SC_count')['Value'].transform('mean')\n",
    "x_test['BC_count_mean'] = x_test.groupby('BC_count')['Value'].transform('mean')\n",
    "x_test['Date_mean'] = x_test.groupby('Date')['Value'].transform('mean')"
   ]
  },
  {
   "cell_type": "code",
   "execution_count": 22,
   "metadata": {},
   "outputs": [
    {
     "data": {
      "text/plain": [
       "42"
      ]
     },
     "execution_count": 22,
     "metadata": {},
     "output_type": "execute_result"
    }
   ],
   "source": [
    "gc.collect()"
   ]
  },
  {
   "cell_type": "code",
   "execution_count": 23,
   "metadata": {},
   "outputs": [
    {
     "data": {
      "text/plain": [
       "Index(['Transaction Ref', 'Originator', 'Sender', 'Receiver', 'Beneficiary',\n",
       "       'Date', 'Time', 'Currency', 'Value', 'Flag', 'SR', 'SB', 'RB', 'SC',\n",
       "       'BC', 'Datetime', 'mon', 'dom', 'dow', 'q', 'h', 'm', 'Cmon', 'Cdom',\n",
       "       'Sender_count', 'Receiver_count', 'Beneficiary_count', 'Date_count',\n",
       "       'Currency_count', 'SR_count', 'SB_count', 'RB_count', 'SC_count',\n",
       "       'BC_count', 'mon_count', 'dom_count', 'dow_count', 'q_count', 'h_count',\n",
       "       'Cmon_count', 'Cdom_count', 'Currency_mean', 'Bene_mean',\n",
       "       'SC_count_mean', 'BC_count_mean', 'Date_mean'],\n",
       "      dtype='object')"
      ]
     },
     "execution_count": 23,
     "metadata": {},
     "output_type": "execute_result"
    }
   ],
   "source": [
    "x_train.columns"
   ]
  },
  {
   "cell_type": "code",
   "execution_count": 24,
   "metadata": {},
   "outputs": [],
   "source": [
    "x_train['h_mean'] = x_train.groupby('h')['Value'].transform('mean')\n",
    "x_test['h_mean'] = x_test.groupby('h')['Value'].transform('mean')"
   ]
  },
  {
   "cell_type": "markdown",
   "metadata": {},
   "source": [
    "### 2.3 Create additional feature to capture corresponding risk scores. Target encoder takes the mean of 'Flag' for these features"
   ]
  },
  {
   "cell_type": "code",
   "execution_count": 25,
   "metadata": {},
   "outputs": [],
   "source": [
    "encoded_columns = [\"Date\", 'h','Beneficiary','Currency', 'SB', 'BC','SC', 'dow', 'SR', 'RB', 'mon', 'Receiver','dom']\n",
    "encoderT=ce.TargetEncoder(cols=[\"Date\", 'h','Beneficiary','Currency', 'SB', 'BC','SC', 'dow','SR', 'RB', 'mon', 'Receiver','dom'], smoothing=5 ,return_df=True)\n",
    "df_train_transformed = encoderT.fit_transform(x_train[encoded_columns], x_train.Flag)\n",
    "x_train =  x_train.join(df_train_transformed.add_suffix(\"_tar\"))\n",
    "\n",
    "df_test_transformed = encoderT.transform(x_test[encoded_columns])\n",
    "\n",
    "x_test =  x_test.join(df_test_transformed.add_suffix(\"_tar\"))\n"
   ]
  },
  {
   "cell_type": "code",
   "execution_count": 26,
   "metadata": {},
   "outputs": [
    {
     "data": {
      "text/plain": [
       "Index(['Transaction Ref', 'Originator', 'Sender', 'Receiver', 'Beneficiary',\n",
       "       'Date', 'Time', 'Currency', 'Value', 'Flag', 'SR', 'SB', 'RB', 'SC',\n",
       "       'BC', 'Datetime', 'mon', 'dom', 'dow', 'q', 'h', 'm', 'Cmon', 'Cdom',\n",
       "       'Sender_count', 'Receiver_count', 'Beneficiary_count', 'Date_count',\n",
       "       'Currency_count', 'SR_count', 'SB_count', 'RB_count', 'SC_count',\n",
       "       'BC_count', 'mon_count', 'dom_count', 'dow_count', 'q_count', 'h_count',\n",
       "       'Cmon_count', 'Cdom_count', 'Currency_mean', 'Bene_mean',\n",
       "       'SC_count_mean', 'BC_count_mean', 'Date_mean', 'h_mean', 'Date_tar',\n",
       "       'h_tar', 'Beneficiary_tar', 'Currency_tar', 'SB_tar', 'BC_tar',\n",
       "       'SC_tar', 'dow_tar', 'SR_tar', 'RB_tar', 'mon_tar', 'Receiver_tar',\n",
       "       'dom_tar'],\n",
       "      dtype='object')"
      ]
     },
     "execution_count": 26,
     "metadata": {},
     "output_type": "execute_result"
    }
   ],
   "source": [
    "x_train.columns"
   ]
  },
  {
   "cell_type": "code",
   "execution_count": 27,
   "metadata": {},
   "outputs": [
    {
     "data": {
      "text/plain": [
       "Index(['Transaction Ref', 'Originator', 'Sender', 'Receiver', 'Beneficiary',\n",
       "       'Date', 'Time', 'Currency', 'Value', 'Flag', 'SR', 'SB', 'RB', 'SC',\n",
       "       'BC', 'Datetime', 'mon', 'dom', 'dow', 'q', 'h', 'm', 'Cmon', 'Cdom',\n",
       "       'Sender_count', 'Receiver_count', 'Beneficiary_count', 'Date_count',\n",
       "       'Currency_count', 'SR_count', 'SB_count', 'RB_count', 'SC_count',\n",
       "       'BC_count', 'mon_count', 'dom_count', 'dow_count', 'q_count', 'h_count',\n",
       "       'Cmon_count', 'Cdom_count', 'Currency_mean', 'Bene_mean',\n",
       "       'SC_count_mean', 'BC_count_mean', 'Date_mean', 'h_mean', 'Date_tar',\n",
       "       'h_tar', 'Beneficiary_tar', 'Currency_tar', 'SB_tar', 'BC_tar',\n",
       "       'SC_tar', 'dow_tar', 'SR_tar', 'RB_tar', 'mon_tar', 'Receiver_tar',\n",
       "       'dom_tar'],\n",
       "      dtype='object')"
      ]
     },
     "execution_count": 27,
     "metadata": {},
     "output_type": "execute_result"
    }
   ],
   "source": [
    "x_test.columns"
   ]
  },
  {
   "cell_type": "markdown",
   "metadata": {},
   "source": [
    "### 2.4 Drop the non numeric fields for which we have already create frequency or target based eoncodings"
   ]
  },
  {
   "cell_type": "code",
   "execution_count": 28,
   "metadata": {},
   "outputs": [],
   "source": [
    "x_test = x_test.drop(['Transaction Ref', 'Originator', 'Sender', 'Receiver', 'Beneficiary',\n",
    "       'Date', 'Time', 'Currency','SR', 'SB', 'RB', 'SC', 'BC', 'Datetime','Cmon', 'Cdom'], axis=1)\n",
    "\n",
    "x_train = x_train.drop(['Transaction Ref', 'Originator', 'Sender', 'Receiver', 'Beneficiary',\n",
    "       'Date', 'Time', 'Currency','SR', 'SB', 'RB', 'SC', 'BC', 'Datetime','Cmon', 'Cdom'], axis=1)\n"
   ]
  },
  {
   "cell_type": "markdown",
   "metadata": {},
   "source": [
    "### 2.5 Separate the target field from other features and create x_train, y_train, x_test and y_test"
   ]
  },
  {
   "cell_type": "code",
   "execution_count": 29,
   "metadata": {},
   "outputs": [
    {
     "data": {
      "text/plain": [
       "((3492955, 43), (3492955,))"
      ]
     },
     "execution_count": 29,
     "metadata": {},
     "output_type": "execute_result"
    }
   ],
   "source": [
    "X_train = x_train.drop(['Flag'],axis=1)\n",
    "y_train = x_train['Flag']\n",
    "\n",
    "X_train=X_train.fillna(0)\n",
    "X_train.shape,y_train.shape"
   ]
  },
  {
   "cell_type": "code",
   "execution_count": 30,
   "metadata": {},
   "outputs": [
    {
     "data": {
      "text/plain": [
       "210"
      ]
     },
     "execution_count": 30,
     "metadata": {},
     "output_type": "execute_result"
    }
   ],
   "source": [
    "# import gc\n",
    "gc.collect()"
   ]
  },
  {
   "cell_type": "code",
   "execution_count": 31,
   "metadata": {},
   "outputs": [
    {
     "data": {
      "text/plain": [
       "((3584663, 43), (3584663,))"
      ]
     },
     "execution_count": 31,
     "metadata": {},
     "output_type": "execute_result"
    }
   ],
   "source": [
    "\n",
    "over_sm = SMOTE(sampling_strategy=0.03)\n",
    "X_train, y_train = over_sm.fit_resample(X_train, y_train)\n",
    "X_train.shape,y_train.shape"
   ]
  },
  {
   "cell_type": "code",
   "execution_count": 32,
   "metadata": {},
   "outputs": [
    {
     "data": {
      "text/plain": [
       "((183840, 43), (183840,))"
      ]
     },
     "execution_count": 32,
     "metadata": {},
     "output_type": "execute_result"
    }
   ],
   "source": [
    "X_test = x_test.drop(['Flag'],axis=1)\n",
    "X_test=X_test.fillna(0)\n",
    "\n",
    "y_test = x_test['Flag']\n",
    "X_test.shape,y_test.shape"
   ]
  },
  {
   "cell_type": "code",
   "execution_count": 33,
   "metadata": {},
   "outputs": [
    {
     "data": {
      "text/plain": [
       "86"
      ]
     },
     "execution_count": 33,
     "metadata": {},
     "output_type": "execute_result"
    }
   ],
   "source": [
    "gc.collect()"
   ]
  },
  {
   "cell_type": "markdown",
   "metadata": {},
   "source": [
    "### 2.6 [Optional] At this point we can save our pre-processed data and the encoders. Later we can reload them and continue to model fitting. "
   ]
  },
  {
   "cell_type": "markdown",
   "metadata": {},
   "source": [
    "> This step helps avoid data losses if kernel crashes. Since we have already pre-processed and saved, we can restart the kernel and resume from sec 2.7. However if sec 2.6 is not executed (i.e. if below cell is commented out) then do not execute sec 2.7 either."
   ]
  },
  {
   "cell_type": "code",
   "execution_count": 34,
   "metadata": {},
   "outputs": [
    {
     "data": {
      "text/plain": [
       "['count_encvTEMP_3.joblib']"
      ]
     },
     "execution_count": 34,
     "metadata": {},
     "output_type": "execute_result"
    }
   ],
   "source": [
    "import joblib\n",
    "joblib.dump(X_train , 'X_train_vTEMP_3.joblib')\n",
    "joblib.dump(y_train, 'y_trainvTEMP_3.joblib')\n",
    "joblib.dump(X_test, 'X_testvTEMP_3.joblib')\n",
    "joblib.dump(y_test, 'y_testvTEMP_3.joblib')\n",
    "joblib.dump(encoderT, 'encoderTvTEMP_3.joblib')\n",
    "joblib.dump(count_enc, 'count_encvTEMP_3.joblib')"
   ]
  },
  {
   "cell_type": "markdown",
   "metadata": {},
   "source": [
    "### 2.7 Reload pre-processed data and proceed to model building"
   ]
  },
  {
   "cell_type": "code",
   "execution_count": 1,
   "metadata": {},
   "outputs": [],
   "source": [
    "import joblib\n",
    "import category_encoders as ce\n",
    "from sklearn.model_selection import train_test_split\n",
    "import pandas as pd\n",
    "import numpy as np \n",
    "from sklearn.metrics import confusion_matrix\n",
    "\n",
    "X_train = joblib.load('X_train_vTEMP_3.joblib')\n",
    "y_train = joblib.load('y_trainvTEMP_3.joblib')\n",
    "X_test = joblib.load('X_testvTEMP_3.joblib')\n",
    "y_test = joblib.load('y_testvTEMP_3.joblib')\n",
    "encoderT = joblib.load('encoderTvTEMP_3.joblib')\n",
    "count_enc = joblib.load('count_encvTEMP_3.joblib')"
   ]
  },
  {
   "cell_type": "code",
   "execution_count": 2,
   "metadata": {},
   "outputs": [],
   "source": [
    "# X_train = X_train.drop(['Cmon', 'Cdom'],axis=1)\n",
    "# X_test = X_test.drop(['Cmon', 'Cdom'],axis=1)"
   ]
  },
  {
   "cell_type": "markdown",
   "metadata": {},
   "source": [
    "### 3.0 Train and RandomForestClassifier. Save the trained model to file system for later use in test script"
   ]
  },
  {
   "cell_type": "code",
   "execution_count": 2,
   "metadata": {},
   "outputs": [
    {
     "name": "stdout",
     "output_type": "stream",
     "text": [
      "Time taken for one classifier is\n",
      "893.5039541721344\n"
     ]
    },
    {
     "data": {
      "text/plain": [
       "['random_forest_923_vTEMP_3.joblib']"
      ]
     },
     "execution_count": 2,
     "metadata": {},
     "output_type": "execute_result"
    }
   ],
   "source": [
    "from sklearn.ensemble import RandomForestClassifier\n",
    "#Create a Gaussian Classifier\n",
    "import time\n",
    "start_time = time.time()\n",
    "clf=RandomForestClassifier(n_estimators=200, n_jobs=-1)\n",
    "\n",
    "#Train the model using the training sets y_pred=clf.predict(X_test)\n",
    "clf.fit(X_train,y_train)\n",
    "end_time = time.time()\n",
    "print('Time taken for one classifier is')\n",
    "print(end_time - start_time)\n",
    "joblib.dump(clf, 'random_forest_923_vTEMP_3.joblib')"
   ]
  },
  {
   "cell_type": "code",
   "execution_count": 3,
   "metadata": {},
   "outputs": [],
   "source": [
    "y_predrf=clf.predict(X_test)"
   ]
  },
  {
   "cell_type": "code",
   "execution_count": 4,
   "metadata": {},
   "outputs": [
    {
     "data": {
      "text/plain": [
       "(183120, 52, 173, 495)"
      ]
     },
     "execution_count": 4,
     "metadata": {},
     "output_type": "execute_result"
    }
   ],
   "source": [
    "from sklearn.metrics import classification_report,confusion_matrix\n",
    "tn, fp, fn, tp = confusion_matrix(y_test, y_predrf).ravel()\n",
    "tn, fp, fn, tp"
   ]
  },
  {
   "cell_type": "code",
   "execution_count": 5,
   "metadata": {},
   "outputs": [
    {
     "data": {
      "text/plain": [
       "0.8148148148148149"
      ]
     },
     "execution_count": 5,
     "metadata": {},
     "output_type": "execute_result"
    }
   ],
   "source": [
    "from sklearn.metrics import f1_score\n",
    "f1 = f1_score(y_test, y_predrf)\n",
    "f1"
   ]
  },
  {
   "cell_type": "code",
   "execution_count": 6,
   "metadata": {},
   "outputs": [
    {
     "data": {
      "text/plain": [
       "0.8703670389441892"
      ]
     },
     "execution_count": 6,
     "metadata": {},
     "output_type": "execute_result"
    }
   ],
   "source": [
    "from sklearn.metrics import roc_curve, auc, roc_auc_score\n",
    "roc_auc_score(y_test,y_predrf)"
   ]
  },
  {
   "cell_type": "code",
   "execution_count": null,
   "metadata": {},
   "outputs": [],
   "source": []
  }
 ],
 "metadata": {
  "kernelspec": {
   "display_name": "Python 3",
   "language": "python",
   "name": "python3"
  },
  "language_info": {
   "codemirror_mode": {
    "name": "ipython",
    "version": 3
   },
   "file_extension": ".py",
   "mimetype": "text/x-python",
   "name": "python",
   "nbconvert_exporter": "python",
   "pygments_lexer": "ipython3",
   "version": "3.7.6"
  }
 },
 "nbformat": 4,
 "nbformat_minor": 4
}
